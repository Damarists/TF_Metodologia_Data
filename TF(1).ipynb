{
  "nbformat": 4,
  "nbformat_minor": 0,
  "metadata": {
    "colab": {
      "provenance": []
    },
    "kernelspec": {
      "name": "python3",
      "display_name": "Python 3"
    },
    "language_info": {
      "name": "python"
    }
  },
  "cells": [
    {
      "cell_type": "code",
      "source": [
        "import pandas as pd\n",
        "from imblearn.under_sampling import RandomUnderSampler\n",
        "from imblearn.over_sampling import RandomOverSampler"
      ],
      "metadata": {
        "id": "gUPmoIEky-XC"
      },
      "execution_count": null,
      "outputs": []
    },
    {
      "cell_type": "markdown",
      "source": [
        "### **Cargar data**"
      ],
      "metadata": {
        "id": "rBfUJoT9zvoH"
      }
    },
    {
      "cell_type": "code",
      "execution_count": null,
      "metadata": {
        "id": "3TyBr52rooGd"
      },
      "outputs": [],
      "source": [
        "# Ruta\n",
        "path = \"/content/drive/MyDrive/Colab Notebooks/Metodología para Data Science/TF/datasets/data.csv\"\n",
        "# Cargar data\n",
        "df_data = pd.read_csv(path)\n",
        "# Tipos de datos y valores nulos\n",
        "print(df_data.info())"
      ]
    },
    {
      "cell_type": "markdown",
      "source": [
        "**Variable clave: Class**\n",
        "\n",
        "Identifica si una conexión es \"Normal\" o \"Anomalous\". Aquí nos enfocaremos en la predicción."
      ],
      "metadata": {
        "id": "_NewyhhVwfkt"
      }
    },
    {
      "cell_type": "markdown",
      "source": [
        "### **Identificar variable categóricas**"
      ],
      "metadata": {
        "id": "Ib9j-y50z11k"
      }
    },
    {
      "cell_type": "code",
      "source": [
        "# Verificar las variables categóricas\n",
        "categorical_columns = df_data.select_dtypes(include=['object']).columns\n",
        "print(\"Columnas categóricas y sus categorías únicas:\")\n",
        "for col in categorical_columns:\n",
        "    print(f\"{col}: {df_data[col].unique()}\")"
      ],
      "metadata": {
        "id": "QZhOUvQmyyXD"
      },
      "execution_count": null,
      "outputs": []
    },
    {
      "cell_type": "markdown",
      "source": [
        "**Variables categóricas**\n",
        "- ``protocol_type``\n",
        "- ``service``\n",
        "- ``flags``\n",
        "- ``class``"
      ],
      "metadata": {
        "id": "VyKoWI_3yNLd"
      }
    },
    {
      "cell_type": "markdown",
      "source": [
        "### **Aplicar get_dummies**"
      ],
      "metadata": {
        "id": "yKJQcogcz7cR"
      }
    },
    {
      "cell_type": "code",
      "source": [
        "# Aplicar a las columnas categóricas excepto 'class'\n",
        "df_dummies = pd.get_dummies(df_data, columns=['protocol_type', 'service', 'flag'])\n",
        "print(df_dummies.head())"
      ],
      "metadata": {
        "id": "JVl27ALRwdlv"
      },
      "execution_count": null,
      "outputs": []
    },
    {
      "cell_type": "markdown",
      "source": [
        "### **Uso de RandomUnder y Randomover Sample**"
      ],
      "metadata": {
        "id": "hzc0rPgg0H_2"
      }
    },
    {
      "cell_type": "code",
      "source": [
        "# RandomUnderSampler\n",
        "under_sampler = RandomUnderSampler(random_state=42)\n",
        "X_under, y_under = under_sampler.fit_resample(X, y)\n",
        "print(\"Distribución de clases después de RandomUnderSampler:\")\n",
        "print(y_under.value_counts())"
      ],
      "metadata": {
        "colab": {
          "base_uri": "https://localhost:8080/"
        },
        "id": "hpaeifWh0OVP",
        "outputId": "c2a8ab5c-20ae-45f4-a5ed-5e60d0bb29e0"
      },
      "execution_count": null,
      "outputs": [
        {
          "output_type": "stream",
          "name": "stdout",
          "text": [
            "Distribución de clases después de RandomUnderSampler:\n",
            "class\n",
            "0    11743\n",
            "1    11743\n",
            "Name: count, dtype: int64\n"
          ]
        }
      ]
    },
    {
      "cell_type": "code",
      "source": [
        "# RandomOverSampler\n",
        "over_sampler = RandomOverSampler(random_state=42)\n",
        "X_over, y_over = over_sampler.fit_resample(X, y)\n",
        "print(\"\\nDistribución de clases después de RandomOverSampler:\")\n",
        "print(y_over.value_counts())"
      ],
      "metadata": {
        "colab": {
          "base_uri": "https://localhost:8080/"
        },
        "id": "UGxDNkzh0pRt",
        "outputId": "c4e5623a-6fa3-403a-b533-c9c9e51d2400"
      },
      "execution_count": null,
      "outputs": [
        {
          "output_type": "stream",
          "name": "stdout",
          "text": [
            "\n",
            "Distribución de clases después de RandomOverSampler:\n",
            "class\n",
            "1    13449\n",
            "0    13449\n",
            "Name: count, dtype: int64\n"
          ]
        }
      ]
    },
    {
      "cell_type": "markdown",
      "source": [
        "_RandomOverSampler_ ha equilibrado las clases en el dataset, aumentando la clase minoritaria hasta igualarla con la clase mayoritaria (13,449 instancias cada una). Esto ayuda al modelo a evitar el sesgo hacia la clase dominante, mejora la precisión en la detección de ambas clases y favorece a un modelo más robusto."
      ],
      "metadata": {
        "id": "-_VZBjeW0wNM"
      }
    },
    {
      "cell_type": "markdown",
      "source": [
        "### **FEATURES**"
      ],
      "metadata": {
        "id": "MGpaKF-J3Wvy"
      }
    },
    {
      "cell_type": "code",
      "source": [
        "from sklearn.ensemble import RandomForestClassifier\n",
        "from sklearn.model_selection import train_test_split\n",
        "from sklearn.metrics import accuracy_score\n",
        "import pandas as pd\n",
        "\n",
        "# Cargar el dataset y transformar las variables categóricas\n",
        "path = \"data.csv\"\n",
        "df_data = pd.read_csv(path)\n",
        "df_dummies = pd.get_dummies(df_data, columns=['protocol_type', 'service', 'flag'])\n",
        "\n",
        "# Eliminar filas con valores nulos en la columna 'class' y dividir el dataset\n",
        "df_dummies = df_dummies.dropna(subset=['class'])\n",
        "X = df_dummies.drop('class', axis=1)\n",
        "y = df_dummies['class']\n",
        "\n",
        "# Dividir en conjuntos de entrenamiento y prueba\n",
        "X_train, X_test, y_train, y_test = train_test_split(X, y, test_size=0.3, random_state=42)\n",
        "\n",
        "# Entrenar un modelo de Random Forest\n",
        "model = RandomForestClassifier(random_state=42)\n",
        "model.fit(X_train, y_train)\n",
        "\n",
        "# Calcular precisión para verificar el modelo\n",
        "y_pred = model.predict(X_test)\n",
        "accuracy = accuracy_score(y_test, y_pred)\n",
        "print(f\"Precisión del modelo: {accuracy:.2f}\")\n",
        "\n",
        "# Extraer importancia de las características\n",
        "importances = model.feature_importances_\n",
        "feature_importances = pd.DataFrame({'feature': X.columns, 'importance': importances})\n",
        "feature_importances = feature_importances.sort_values(by='importance', ascending=False)\n",
        "\n",
        "# Mostrar las características más importantes\n",
        "print(\"Características más importantes:\")\n",
        "print(feature_importances.head(10))\n",
        "\n",
        "# Filtrar las características más importantes (por ejemplo, el top 10)\n",
        "top_features = feature_importances['feature'].head(10).tolist()\n",
        "X_top = X[top_features]\n",
        "\n",
        "# Mostrar el nuevo dataset con solo las características más importantes\n",
        "print(\"\\nDataset reducido con las características más importantes:\")\n",
        "print(X_top.head())\n"
      ],
      "metadata": {
        "colab": {
          "base_uri": "https://localhost:8080/"
        },
        "id": "NuA0tAZX2-fC",
        "outputId": "e8ea2d22-6714-44b2-feae-04c682b43238"
      },
      "execution_count": null,
      "outputs": [
        {
          "output_type": "stream",
          "name": "stderr",
          "text": [
            "<ipython-input-16-124f1bb3411a>:8: DtypeWarning: Columns (41) have mixed types. Specify dtype option on import or set low_memory=False.\n",
            "  df_data = pd.read_csv(path)\n"
          ]
        },
        {
          "output_type": "stream",
          "name": "stdout",
          "text": [
            "Precisión del modelo: 1.00\n",
            "Características más importantes:\n",
            "                      feature  importance\n",
            "1                   src_bytes    0.109816\n",
            "2                   dst_bytes    0.105220\n",
            "29         dst_host_srv_count    0.073498\n",
            "117                   flag_SF    0.067111\n",
            "31     dst_host_diff_srv_rate    0.047925\n",
            "30     dst_host_same_srv_rate    0.043843\n",
            "25              same_srv_rate    0.043377\n",
            "19                      count    0.038898\n",
            "8                   logged_in    0.034636\n",
            "35   dst_host_srv_serror_rate    0.034157\n",
            "\n",
            "Dataset reducido con las características más importantes:\n",
            "   src_bytes  dst_bytes  dst_host_srv_count  flag_SF  dst_host_diff_srv_rate  \\\n",
            "0        491          0                  25     True                    0.03   \n",
            "1        146          0                   1     True                    0.60   \n",
            "2          0          0                  26    False                    0.05   \n",
            "3        232       8153                 255     True                    0.00   \n",
            "4        199        420                 255     True                    0.00   \n",
            "\n",
            "   dst_host_same_srv_rate  same_srv_rate  count  logged_in  \\\n",
            "0                    0.17           1.00      2          0   \n",
            "1                    0.00           0.08     13          0   \n",
            "2                    0.10           0.05    123          0   \n",
            "3                    1.00           1.00      5          1   \n",
            "4                    1.00           1.00     30          1   \n",
            "\n",
            "   dst_host_srv_serror_rate  \n",
            "0                      0.00  \n",
            "1                      0.00  \n",
            "2                      1.00  \n",
            "3                      0.01  \n",
            "4                      0.00  \n"
          ]
        }
      ]
    },
    {
      "cell_type": "markdown",
      "source": [
        "# CRISP DM"
      ],
      "metadata": {
        "id": "aiFR2Snah6WE"
      }
    },
    {
      "cell_type": "markdown",
      "source": [
        "# 1. Comprensión del negocio"
      ],
      "metadata": {
        "id": "lxACigSSU_Vg"
      }
    },
    {
      "cell_type": "markdown",
      "source": [
        "Objetivo: Detectar intrusiones en la red mediante un modelo de clasificación que pueda predecir si una conexión es \"normal\" o una \"anomalía\".\n",
        "Impacto: Mejora la seguridad de la red al identificar comportamientos sospechosos rápidamente.\n",
        "Requerimientos: Maximizar precisión y minimizar falsos negativos (no detectar una intrusión)."
      ],
      "metadata": {
        "id": "2Q3SQUYLU9dg"
      }
    },
    {
      "cell_type": "markdown",
      "source": [
        "# 2. Comprensión de los datos"
      ],
      "metadata": {
        "id": "b50-fuaQVDkn"
      }
    },
    {
      "cell_type": "code",
      "source": [
        "# Cargar y explorar el dataset\n",
        "import pandas as pd\n",
        "import numpy as np\n",
        "import matplotlib.pyplot as plt\n",
        "import seaborn as sns"
      ],
      "metadata": {
        "id": "9rFXciAHYuiA"
      },
      "execution_count": 3,
      "outputs": []
    },
    {
      "cell_type": "code",
      "source": [
        "# Leer el archivo CSV\n",
        "data = pd.read_csv('data.csv')\n",
        "\n",
        "# Mostrar información general del dataset\n",
        "print(\"Información del Dataset:\")\n",
        "print(data.info())\n",
        "\n",
        "# Mostrar un resumen estadístico de las columnas numéricas\n",
        "print(\"\\nResumen Estadístico:\")\n",
        "print(data.describe())\n",
        "\n",
        "# Mostrar las primeras filas del dataset\n",
        "print(\"\\nPrimeras filas del Dataset:\")\n",
        "print(data.head())\n",
        "\n",
        "# Verificar valores faltantes\n",
        "missing_values = data.isnull().sum()\n",
        "print(\"\\nValores faltantes en el Dataset:\")\n",
        "print(missing_values[missing_values > 0])\n",
        "\n",
        "# Distribución de la columna objetivo\n",
        "target_distribution = data['class'].value_counts()\n",
        "print(\"\\nDistribución de la columna objetivo (class):\")\n",
        "print(target_distribution)\n",
        "\n",
        "# Visualización de la distribución de la columna objetivo\n",
        "plt.figure(figsize=(8, 5))\n",
        "sns.countplot(data['class'])\n",
        "plt.title('Distribución de la Columna Objetivo (class)')\n",
        "plt.xlabel('Class')\n",
        "plt.ylabel('Frecuencia')\n",
        "plt.show()\n"
      ],
      "metadata": {
        "colab": {
          "base_uri": "https://localhost:8080/",
          "height": 1000
        },
        "id": "osKoxpxyYrNx",
        "outputId": "7e74d174-8a4c-4230-dd5c-1faf977fd760"
      },
      "execution_count": 4,
      "outputs": [
        {
          "output_type": "stream",
          "name": "stderr",
          "text": [
            "<ipython-input-4-4c65d0d07446>:2: DtypeWarning: Columns (41) have mixed types. Specify dtype option on import or set low_memory=False.\n",
            "  data = pd.read_csv('data.csv')\n"
          ]
        },
        {
          "output_type": "stream",
          "name": "stdout",
          "text": [
            "Información del Dataset:\n",
            "<class 'pandas.core.frame.DataFrame'>\n",
            "RangeIndex: 47736 entries, 0 to 47735\n",
            "Data columns (total 42 columns):\n",
            " #   Column                       Non-Null Count  Dtype  \n",
            "---  ------                       --------------  -----  \n",
            " 0   duration                     47736 non-null  int64  \n",
            " 1   protocol_type                47736 non-null  object \n",
            " 2   service                      47736 non-null  object \n",
            " 3   flag                         47736 non-null  object \n",
            " 4   src_bytes                    47736 non-null  int64  \n",
            " 5   dst_bytes                    47736 non-null  int64  \n",
            " 6   land                         47736 non-null  int64  \n",
            " 7   wrong_fragment               47736 non-null  int64  \n",
            " 8   urgent                       47736 non-null  int64  \n",
            " 9   hot                          47736 non-null  int64  \n",
            " 10  num_failed_logins            47736 non-null  int64  \n",
            " 11  logged_in                    47736 non-null  int64  \n",
            " 12  num_compromised              47736 non-null  int64  \n",
            " 13  root_shell                   47736 non-null  int64  \n",
            " 14  su_attempted                 47736 non-null  int64  \n",
            " 15  num_root                     47736 non-null  int64  \n",
            " 16  num_file_creations           47736 non-null  int64  \n",
            " 17  num_shells                   47736 non-null  int64  \n",
            " 18  num_access_files             47736 non-null  int64  \n",
            " 19  num_outbound_cmds            47736 non-null  int64  \n",
            " 20  is_host_login                47736 non-null  int64  \n",
            " 21  is_guest_login               47736 non-null  int64  \n",
            " 22  count                        47736 non-null  int64  \n",
            " 23  srv_count                    47736 non-null  int64  \n",
            " 24  serror_rate                  47736 non-null  float64\n",
            " 25  srv_serror_rate              47736 non-null  float64\n",
            " 26  rerror_rate                  47736 non-null  float64\n",
            " 27  srv_rerror_rate              47736 non-null  float64\n",
            " 28  same_srv_rate                47736 non-null  float64\n",
            " 29  diff_srv_rate                47736 non-null  float64\n",
            " 30  srv_diff_host_rate           47736 non-null  float64\n",
            " 31  dst_host_count               47736 non-null  int64  \n",
            " 32  dst_host_srv_count           47736 non-null  int64  \n",
            " 33  dst_host_same_srv_rate       47736 non-null  float64\n",
            " 34  dst_host_diff_srv_rate       47736 non-null  float64\n",
            " 35  dst_host_same_src_port_rate  47736 non-null  float64\n",
            " 36  dst_host_srv_diff_host_rate  47736 non-null  float64\n",
            " 37  dst_host_serror_rate         47736 non-null  float64\n",
            " 38  dst_host_srv_serror_rate     47736 non-null  float64\n",
            " 39  dst_host_rerror_rate         47736 non-null  float64\n",
            " 40  dst_host_srv_rerror_rate     47736 non-null  float64\n",
            " 41  class                        25192 non-null  object \n",
            "dtypes: float64(15), int64(23), object(4)\n",
            "memory usage: 15.3+ MB\n",
            "None\n",
            "\n",
            "Resumen Estadístico:\n",
            "           duration     src_bytes     dst_bytes          land  wrong_fragment  \\\n",
            "count  47736.000000  4.773600e+04  4.773600e+04  47736.000000    47736.000000   \n",
            "mean     264.347285  1.774954e+04  2.813757e+03      0.000189        0.016507   \n",
            "std     2178.505660  1.781220e+06  6.616178e+04      0.013730        0.213064   \n",
            "min        0.000000  0.000000e+00  0.000000e+00      0.000000        0.000000   \n",
            "25%        0.000000  0.000000e+00  0.000000e+00      0.000000        0.000000   \n",
            "50%        0.000000  4.500000e+01  3.600000e+01      0.000000        0.000000   \n",
            "75%        0.000000  2.840000e+02  5.990000e+02      0.000000        0.000000   \n",
            "max    57715.000000  3.817091e+08  5.151385e+06      1.000000        3.000000   \n",
            "\n",
            "             urgent           hot  num_failed_logins     logged_in  \\\n",
            "count  47736.000000  47736.000000       47736.000000  47736.000000   \n",
            "mean       0.000356      0.154286           0.010851      0.417169   \n",
            "std        0.025481      1.690612           0.108927      0.493097   \n",
            "min        0.000000      0.000000           0.000000      0.000000   \n",
            "25%        0.000000      0.000000           0.000000      0.000000   \n",
            "50%        0.000000      0.000000           0.000000      0.000000   \n",
            "75%        0.000000      0.000000           0.000000      1.000000   \n",
            "max        3.000000    101.000000           4.000000      1.000000   \n",
            "\n",
            "       num_compromised  ...  dst_host_count  dst_host_srv_count  \\\n",
            "count     47736.000000  ...    47736.000000        47736.000000   \n",
            "mean          0.176869  ...      187.886291          127.194319   \n",
            "std           9.068051  ...       96.848516          111.921285   \n",
            "min           0.000000  ...        0.000000            0.000000   \n",
            "25%           0.000000  ...       99.000000           12.000000   \n",
            "50%           0.000000  ...      255.000000           98.000000   \n",
            "75%           0.000000  ...      255.000000          255.000000   \n",
            "max         884.000000  ...      255.000000          255.000000   \n",
            "\n",
            "       dst_host_same_srv_rate  dst_host_diff_srv_rate  \\\n",
            "count            47736.000000            47736.000000   \n",
            "mean                 0.561790                0.086317   \n",
            "std                  0.444949                0.203750   \n",
            "min                  0.000000                0.000000   \n",
            "25%                  0.050000                0.000000   \n",
            "50%                  0.760000                0.020000   \n",
            "75%                  1.000000                0.070000   \n",
            "max                  1.000000                1.000000   \n",
            "\n",
            "       dst_host_same_src_port_rate  dst_host_srv_diff_host_rate  \\\n",
            "count                 47736.000000                 47736.000000   \n",
            "mean                      0.140278                     0.026080   \n",
            "std                       0.307468                     0.099666   \n",
            "min                       0.000000                     0.000000   \n",
            "25%                       0.000000                     0.000000   \n",
            "50%                       0.000000                     0.000000   \n",
            "75%                       0.040000                     0.010000   \n",
            "max                       1.000000                     1.000000   \n",
            "\n",
            "       dst_host_serror_rate  dst_host_srv_serror_rate  dst_host_rerror_rate  \\\n",
            "count          47736.000000              47736.000000          47736.000000   \n",
            "mean               0.197021                  0.194640              0.172387   \n",
            "std                0.385606                  0.388126              0.351446   \n",
            "min                0.000000                  0.000000              0.000000   \n",
            "25%                0.000000                  0.000000              0.000000   \n",
            "50%                0.000000                  0.000000              0.000000   \n",
            "75%                0.020000                  0.000000              0.020000   \n",
            "max                1.000000                  1.000000              1.000000   \n",
            "\n",
            "       dst_host_srv_rerror_rate  \n",
            "count              47736.000000  \n",
            "mean                   0.169733  \n",
            "std                    0.363230  \n",
            "min                    0.000000  \n",
            "25%                    0.000000  \n",
            "50%                    0.000000  \n",
            "75%                    0.000000  \n",
            "max                    1.000000  \n",
            "\n",
            "[8 rows x 38 columns]\n",
            "\n",
            "Primeras filas del Dataset:\n",
            "   duration protocol_type   service flag  src_bytes  dst_bytes  land  \\\n",
            "0         0           tcp  ftp_data   SF        491          0     0   \n",
            "1         0           udp     other   SF        146          0     0   \n",
            "2         0           tcp   private   S0          0          0     0   \n",
            "3         0           tcp      http   SF        232       8153     0   \n",
            "4         0           tcp      http   SF        199        420     0   \n",
            "\n",
            "   wrong_fragment  urgent  hot  ...  dst_host_srv_count  \\\n",
            "0               0       0    0  ...                  25   \n",
            "1               0       0    0  ...                   1   \n",
            "2               0       0    0  ...                  26   \n",
            "3               0       0    0  ...                 255   \n",
            "4               0       0    0  ...                 255   \n",
            "\n",
            "   dst_host_same_srv_rate  dst_host_diff_srv_rate  \\\n",
            "0                    0.17                    0.03   \n",
            "1                    0.00                    0.60   \n",
            "2                    0.10                    0.05   \n",
            "3                    1.00                    0.00   \n",
            "4                    1.00                    0.00   \n",
            "\n",
            "   dst_host_same_src_port_rate  dst_host_srv_diff_host_rate  \\\n",
            "0                         0.17                         0.00   \n",
            "1                         0.88                         0.00   \n",
            "2                         0.00                         0.00   \n",
            "3                         0.03                         0.04   \n",
            "4                         0.00                         0.00   \n",
            "\n",
            "   dst_host_serror_rate  dst_host_srv_serror_rate  dst_host_rerror_rate  \\\n",
            "0                  0.00                      0.00                  0.05   \n",
            "1                  0.00                      0.00                  0.00   \n",
            "2                  1.00                      1.00                  0.00   \n",
            "3                  0.03                      0.01                  0.00   \n",
            "4                  0.00                      0.00                  0.00   \n",
            "\n",
            "   dst_host_srv_rerror_rate    class  \n",
            "0                      0.00   normal  \n",
            "1                      0.00   normal  \n",
            "2                      0.00  anomaly  \n",
            "3                      0.01   normal  \n",
            "4                      0.00   normal  \n",
            "\n",
            "[5 rows x 42 columns]\n",
            "\n",
            "Valores faltantes en el Dataset:\n",
            "class    22544\n",
            "dtype: int64\n",
            "\n",
            "Distribución de la columna objetivo (class):\n",
            "class\n",
            "normal     13449\n",
            "anomaly    11743\n",
            "Name: count, dtype: int64\n"
          ]
        },
        {
          "output_type": "display_data",
          "data": {
            "text/plain": [
              "<Figure size 800x500 with 1 Axes>"
            ],
            "image/png": "[encoded data removed]"
          },
          "metadata": {}
        }
      ]
    },
    {
      "cell_type": "markdown",
      "source": [
        "# 3. Preparación de los datos"
      ],
      "metadata": {
        "id": "80VLPZOWVLlA"
      }
    },
    {
      "cell_type": "code",
      "source": [
        "from sklearn.model_selection import train_test_split\n",
        "from sklearn.ensemble import RandomForestClassifier\n",
        "from sklearn.preprocessing import LabelEncoder\n",
        "import seaborn as sns"
      ],
      "metadata": {
        "id": "dJdJGIdGaKYH"
      },
      "execution_count": 5,
      "outputs": []
    },
    {
      "cell_type": "code",
      "source": [
        "# Eliminar filas con valores faltantes en la columna 'class'\n",
        "data = data.dropna(subset=['class'])\n",
        "\n",
        "# Codificar la columna objetivo 'class' (normal=0, anomaly=1)\n",
        "label_encoder = LabelEncoder()\n",
        "data['class'] = label_encoder.fit_transform(data['class'])\n",
        "\n",
        "# Codificar variables categóricas (protocol_type, service, flag) con One-Hot Encoding\n",
        "categorical_columns = ['protocol_type', 'service', 'flag']\n",
        "data = pd.get_dummies(data, columns=categorical_columns, drop_first=True)\n",
        "\n",
        "# Identificar las características más importantes con correlación\n",
        "# Calcular la correlación con la columna objetivo\n",
        "correlation = data.corr()['class'].sort_values(ascending=False)\n",
        "print(\"\\nCorrelación con la columna objetivo 'class':\")\n",
        "print(correlation.head(20))  # Las 20 principales\n",
        "\n",
        "# Visualización de las principales correlaciones\n",
        "plt.figure(figsize=(10, 8))\n",
        "sns.barplot(x=correlation.head(20).values, y=correlation.head(20).index)\n",
        "plt.title('Características más correlacionadas con \"class\"')\n",
        "plt.show()\n",
        "\n",
        "# Selección de las características basadas en correlación (> 0.1 o < -0.1)\n",
        "important_features = correlation[abs(correlation) > 0.1].index.tolist()\n",
        "print(\"\\nCaracterísticas seleccionadas:\")\n",
        "print(important_features)\n",
        "\n",
        "# Dividir los datos en características (X) y objetivo (y)\n",
        "X = data[important_features].drop(columns=['class'])\n",
        "y = data['class']\n",
        "\n",
        "# División del conjunto de datos en entrenamiento y prueba\n",
        "X_train, X_test, y_train, y_test = train_test_split(X, y, test_size=0.3, random_state=42)\n",
        "\n",
        "# Validar las dimensiones de los conjuntos divididos\n",
        "print(\"\\nTamaño de los conjuntos:\")\n",
        "print(f\"Entrenamiento: {X_train.shape}, Prueba: {X_test.shape}\")\n",
        "\n",
        "# Evaluar la importancia de características con Random Forest\n",
        "rf = RandomForestClassifier(random_state=42)\n",
        "rf.fit(X_train, y_train)\n",
        "feature_importances = pd.Series(rf.feature_importances_, index=X.columns).sort_values(ascending=False)\n",
        "\n",
        "# Visualización de las 10 características más importantes según Random Forest\n",
        "plt.figure(figsize=(10, 8))\n",
        "feature_importances.head(10).plot(kind='bar')\n",
        "plt.title('Importancia de las características (Random Forest)')\n",
        "plt.show()\n"
      ],
      "metadata": {
        "colab": {
          "base_uri": "https://localhost:8080/",
          "height": 1000
        },
        "id": "vWhaomXnVvyB",
        "outputId": "cf356473-8d66-43fd-ca4b-d2c884300760"
      },
      "execution_count": 6,
      "outputs": [
        {
          "output_type": "stream",
          "name": "stderr",
          "text": [
            "<ipython-input-6-8745d9163bd2>:6: SettingWithCopyWarning: \n",
            "A value is trying to be set on a copy of a slice from a DataFrame.\n",
            "Try using .loc[row_indexer,col_indexer] = value instead\n",
            "\n",
            "See the caveats in the documentation: https://pandas.pydata.org/pandas-docs/stable/user_guide/indexing.html#returning-a-view-versus-a-copy\n",
            "  data['class'] = label_encoder.fit_transform(data['class'])\n"
          ]
        },
        {
          "output_type": "stream",
          "name": "stdout",
          "text": [
            "\n",
            "Correlación con la columna objetivo 'class':\n",
            "class                     1.000000\n",
            "flag_SF                   0.756731\n",
            "same_srv_rate             0.749237\n",
            "dst_host_srv_count        0.719292\n",
            "dst_host_same_srv_rate    0.692212\n",
            "logged_in                 0.688084\n",
            "service_http              0.562565\n",
            "service_domain_u          0.259833\n",
            "protocol_type_udp         0.220651\n",
            "service_smtp              0.210676\n",
            "srv_diff_host_rate        0.120649\n",
            "service_ftp_data          0.088944\n",
            "service_urp_i             0.064583\n",
            "flag_S1                   0.052627\n",
            "is_guest_login            0.038662\n",
            "num_access_files          0.036999\n",
            "service_ntp_u             0.033325\n",
            "service_other             0.026739\n",
            "su_attempted              0.025851\n",
            "flag_S3                   0.022808\n",
            "Name: class, dtype: float64\n"
          ]
        },
        {
          "output_type": "display_data",
          "data": {
            "text/plain": [
              "<Figure size 1000x800 with 1 Axes>"
            ],
            "image/png": "[encoded data removed]"
          },
          "metadata": {}
        },
        {
          "output_type": "stream",
          "name": "stdout",
          "text": [
            "\n",
            "Características seleccionadas:\n",
            "['class', 'flag_SF', 'same_srv_rate', 'dst_host_srv_count', 'dst_host_same_srv_rate', 'logged_in', 'service_http', 'service_domain_u', 'protocol_type_udp', 'service_smtp', 'srv_diff_host_rate', 'flag_RSTR', 'service_ecr_i', 'service_eco_i', 'flag_REJ', 'diff_srv_rate', 'dst_host_diff_srv_rate', 'srv_rerror_rate', 'dst_host_rerror_rate', 'rerror_rate', 'dst_host_srv_rerror_rate', 'dst_host_count', 'service_private', 'count', 'srv_serror_rate', 'serror_rate', 'flag_S0', 'dst_host_serror_rate', 'dst_host_srv_serror_rate']\n",
            "\n",
            "Tamaño de los conjuntos:\n",
            "Entrenamiento: (17634, 28), Prueba: (7558, 28)\n"
          ]
        },
        {
          "output_type": "display_data",
          "data": {
            "text/plain": [
              "<Figure size 1000x800 with 1 Axes>"
            ],
            "image/png": "[encoded data removed]"
          },
          "metadata": {}
        }
      ]
    },
    {
      "cell_type": "markdown",
      "source": [
        "# 4. Modelado"
      ],
      "metadata": {
        "id": "kb0yJTDNVoaA"
      }
    },
    {
      "cell_type": "code",
      "source": [
        "from sklearn.metrics import classification_report, confusion_matrix, accuracy_score"
      ],
      "metadata": {
        "id": "aGlCySpYiCdM"
      },
      "execution_count": null,
      "outputs": []
    },
    {
      "cell_type": "code",
      "source": [
        "# Entrenar el modelo Random Forest\n",
        "rf_model = RandomForestClassifier(random_state=42, n_estimators=100)\n",
        "rf_model.fit(X_train, y_train)\n",
        "\n",
        "# Realizar predicciones\n",
        "y_pred_rf = rf_model.predict(X_test)\n",
        "\n",
        "# Evaluar el modelo\n",
        "print(\"Resultados de Random Forest:\")\n",
        "print(\"Accuracy:\", accuracy_score(y_test, y_pred_rf))\n",
        "print(\"\\nMatriz de Confusión:\")\n",
        "print(confusion_matrix(y_test, y_pred_rf))\n",
        "print(\"\\nReporte de Clasificación:\")\n",
        "print(classification_report(y_test, y_pred_rf))\n"
      ],
      "metadata": {
        "colab": {
          "base_uri": "https://localhost:8080/"
        },
        "id": "MYi7SUvyVoMB",
        "outputId": "d31868b6-d4fc-4b94-c302-6411db2f25ab"
      },
      "execution_count": 12,
      "outputs": [
        {
          "output_type": "stream",
          "name": "stdout",
          "text": [
            "Resultados de Random Forest:\n",
            "Accuracy: 0.9920613919026198\n",
            "\n",
            "Matriz de Confusión:\n",
            "[[3482   34]\n",
            " [  26 4016]]\n",
            "\n",
            "Reporte de Clasificación:\n",
            "              precision    recall  f1-score   support\n",
            "\n",
            "           0       0.99      0.99      0.99      3516\n",
            "           1       0.99      0.99      0.99      4042\n",
            "\n",
            "    accuracy                           0.99      7558\n",
            "   macro avg       0.99      0.99      0.99      7558\n",
            "weighted avg       0.99      0.99      0.99      7558\n",
            "\n"
          ]
        }
      ]
    },
    {
      "cell_type": "code",
      "source": [
        "from sklearn.svm import SVC\n",
        "from sklearn.metrics import classification_report, confusion_matrix, accuracy_score"
      ],
      "metadata": {
        "id": "oaj6bTkSiHhM"
      },
      "execution_count": null,
      "outputs": []
    },
    {
      "cell_type": "code",
      "source": [
        "# Entrenar el modelo SVM\n",
        "svm_model = SVC(kernel='linear', random_state=42)\n",
        "svm_model.fit(X_train, y_train)\n",
        "\n",
        "# Realizar predicciones\n",
        "y_pred_svm = svm_model.predict(X_test)\n",
        "\n",
        "# Evaluar el modelo\n",
        "print(\"Resultados de SVM:\")\n",
        "print(\"Accuracy:\", accuracy_score(y_test, y_pred_svm))\n",
        "print(\"\\nMatriz de Confusión:\")\n",
        "print(confusion_matrix(y_test, y_pred_svm))\n",
        "print(\"\\nReporte de Clasificación:\")\n",
        "print(classification_report(y_test, y_pred_svm))\n"
      ],
      "metadata": {
        "colab": {
          "base_uri": "https://localhost:8080/"
        },
        "id": "CeQjcNwBaz5_",
        "outputId": "c682362d-bfd6-438f-fd3f-36a6237b314a"
      },
      "execution_count": 9,
      "outputs": [
        {
          "output_type": "stream",
          "name": "stdout",
          "text": [
            "Resultados de SVM:\n",
            "Accuracy: 0.9667901561259592\n",
            "\n",
            "Matriz de Confusión:\n",
            "[[3374  142]\n",
            " [ 109 3933]]\n",
            "\n",
            "Reporte de Clasificación:\n",
            "              precision    recall  f1-score   support\n",
            "\n",
            "           0       0.97      0.96      0.96      3516\n",
            "           1       0.97      0.97      0.97      4042\n",
            "\n",
            "    accuracy                           0.97      7558\n",
            "   macro avg       0.97      0.97      0.97      7558\n",
            "weighted avg       0.97      0.97      0.97      7558\n",
            "\n"
          ]
        }
      ]
    },
    {
      "cell_type": "code",
      "source": [
        "from tensorflow.keras.models import Sequential\n",
        "from tensorflow.keras.layers import Dense\n",
        "from sklearn.metrics import classification_report, confusion_matrix, accuracy_score"
      ],
      "metadata": {
        "id": "PPVumcFciLZk"
      },
      "execution_count": null,
      "outputs": []
    },
    {
      "cell_type": "code",
      "source": [
        "# Crear el modelo\n",
        "nn_model = Sequential()\n",
        "nn_model.add(Dense(16, input_dim=X_train.shape[1], activation='relu'))\n",
        "nn_model.add(Dense(8, activation='relu'))\n",
        "nn_model.add(Dense(1, activation='sigmoid'))\n",
        "\n",
        "# Compilar el modelo\n",
        "nn_model.compile(loss='binary_crossentropy', optimizer='adam', metrics=['accuracy'])\n",
        "\n",
        "# Entrenar el modelo\n",
        "nn_model.fit(X_train, y_train, epochs=20, batch_size=32, verbose=1)\n",
        "\n",
        "# Evaluar el modelo en el conjunto de prueba\n",
        "y_pred_nn = (nn_model.predict(X_test) > 0.5).astype(\"int32\")\n",
        "\n",
        "# Evaluar el modelo\n",
        "print(\"Resultados de Redes Neuronales:\")\n",
        "print(\"Accuracy:\", accuracy_score(y_test, y_pred_nn))\n",
        "print(\"\\nMatriz de Confusión:\")\n",
        "print(confusion_matrix(y_test, y_pred_nn))\n",
        "print(\"\\nReporte de Clasificación:\")\n",
        "print(classification_report(y_test, y_pred_nn))"
      ],
      "metadata": {
        "colab": {
          "base_uri": "https://localhost:8080/"
        },
        "id": "TQRzMNYaa-Jv",
        "outputId": "8b32a149-a257-4c33-dc38-5bc2f3253151"
      },
      "execution_count": 10,
      "outputs": [
        {
          "output_type": "stream",
          "name": "stdout",
          "text": [
            "Epoch 1/20\n"
          ]
        },
        {
          "output_type": "stream",
          "name": "stderr",
          "text": [
            "/usr/local/lib/python3.10/dist-packages/keras/src/layers/core/dense.py:87: UserWarning: Do not pass an `input_shape`/`input_dim` argument to a layer. When using Sequential models, prefer using an `Input(shape)` object as the first layer in the model instead.\n",
            "  super().__init__(activity_regularizer=activity_regularizer, **kwargs)\n"
          ]
        },
        {
          "output_type": "stream",
          "name": "stdout",
          "text": [
            "\u001b[1m552/552\u001b[0m \u001b[32m━━━━━━━━━━━━━━━━━━━━\u001b[0m\u001b[37m\u001b[0m \u001b[1m2s\u001b[0m 2ms/step - accuracy: 0.6236 - loss: 12.0788\n",
            "Epoch 2/20\n",
            "\u001b[1m552/552\u001b[0m \u001b[32m━━━━━━━━━━━━━━━━━━━━\u001b[0m\u001b[37m\u001b[0m \u001b[1m1s\u001b[0m 2ms/step - accuracy: 0.9135 - loss: 0.1951\n",
            "Epoch 3/20\n",
            "\u001b[1m552/552\u001b[0m \u001b[32m━━━━━━━━━━━━━━━━━━━━\u001b[0m\u001b[37m\u001b[0m \u001b[1m1s\u001b[0m 2ms/step - accuracy: 0.9451 - loss: 0.1540\n",
            "Epoch 4/20\n",
            "\u001b[1m552/552\u001b[0m \u001b[32m━━━━━━━━━━━━━━━━━━━━\u001b[0m\u001b[37m\u001b[0m \u001b[1m1s\u001b[0m 1ms/step - accuracy: 0.9556 - loss: 0.1405\n",
            "Epoch 5/20\n",
            "\u001b[1m552/552\u001b[0m \u001b[32m━━━━━━━━━━━━━━━━━━━━\u001b[0m\u001b[37m\u001b[0m \u001b[1m1s\u001b[0m 1ms/step - accuracy: 0.9565 - loss: 0.1269\n",
            "Epoch 6/20\n",
            "\u001b[1m552/552\u001b[0m \u001b[32m━━━━━━━━━━━━━━━━━━━━\u001b[0m\u001b[37m\u001b[0m \u001b[1m2s\u001b[0m 3ms/step - accuracy: 0.9646 - loss: 0.1043\n",
            "Epoch 7/20\n",
            "\u001b[1m552/552\u001b[0m \u001b[32m━━━━━━━━━━━━━━━━━━━━\u001b[0m\u001b[37m\u001b[0m \u001b[1m3s\u001b[0m 3ms/step - accuracy: 0.9667 - loss: 0.0956\n",
            "Epoch 8/20\n",
            "\u001b[1m552/552\u001b[0m \u001b[32m━━━━━━━━━━━━━━━━━━━━\u001b[0m\u001b[37m\u001b[0m \u001b[1m1s\u001b[0m 2ms/step - accuracy: 0.9687 - loss: 0.0929\n",
            "Epoch 9/20\n",
            "\u001b[1m552/552\u001b[0m \u001b[32m━━━━━━━━━━━━━━━━━━━━\u001b[0m\u001b[37m\u001b[0m \u001b[1m1s\u001b[0m 1ms/step - accuracy: 0.9706 - loss: 0.0877\n",
            "Epoch 10/20\n",
            "\u001b[1m552/552\u001b[0m \u001b[32m━━━━━━━━━━━━━━━━━━━━\u001b[0m\u001b[37m\u001b[0m \u001b[1m1s\u001b[0m 1ms/step - accuracy: 0.9703 - loss: 0.0865\n",
            "Epoch 11/20\n",
            "\u001b[1m552/552\u001b[0m \u001b[32m━━━━━━━━━━━━━━━━━━━━\u001b[0m\u001b[37m\u001b[0m \u001b[1m1s\u001b[0m 2ms/step - accuracy: 0.9720 - loss: 0.0842\n",
            "Epoch 12/20\n",
            "\u001b[1m552/552\u001b[0m \u001b[32m━━━━━━━━━━━━━━━━━━━━\u001b[0m\u001b[37m\u001b[0m \u001b[1m1s\u001b[0m 2ms/step - accuracy: 0.9719 - loss: 0.0850\n",
            "Epoch 13/20\n",
            "\u001b[1m552/552\u001b[0m \u001b[32m━━━━━━━━━━━━━━━━━━━━\u001b[0m\u001b[37m\u001b[0m \u001b[1m1s\u001b[0m 2ms/step - accuracy: 0.9735 - loss: 0.0822\n",
            "Epoch 14/20\n",
            "\u001b[1m552/552\u001b[0m \u001b[32m━━━━━━━━━━━━━━━━━━━━\u001b[0m\u001b[37m\u001b[0m \u001b[1m1s\u001b[0m 2ms/step - accuracy: 0.9723 - loss: 0.0817\n",
            "Epoch 15/20\n",
            "\u001b[1m552/552\u001b[0m \u001b[32m━━━━━━━━━━━━━━━━━━━━\u001b[0m\u001b[37m\u001b[0m \u001b[1m1s\u001b[0m 2ms/step - accuracy: 0.9724 - loss: 0.0794\n",
            "Epoch 16/20\n",
            "\u001b[1m552/552\u001b[0m \u001b[32m━━━━━━━━━━━━━━━━━━━━\u001b[0m\u001b[37m\u001b[0m \u001b[1m2s\u001b[0m 3ms/step - accuracy: 0.9717 - loss: 0.0781\n",
            "Epoch 17/20\n",
            "\u001b[1m552/552\u001b[0m \u001b[32m━━━━━━━━━━━━━━━━━━━━\u001b[0m\u001b[37m\u001b[0m \u001b[1m3s\u001b[0m 3ms/step - accuracy: 0.9730 - loss: 0.0811\n",
            "Epoch 18/20\n",
            "\u001b[1m552/552\u001b[0m \u001b[32m━━━━━━━━━━━━━━━━━━━━\u001b[0m\u001b[37m\u001b[0m \u001b[1m2s\u001b[0m 2ms/step - accuracy: 0.9743 - loss: 0.0770\n",
            "Epoch 19/20\n",
            "\u001b[1m552/552\u001b[0m \u001b[32m━━━━━━━━━━━━━━━━━━━━\u001b[0m\u001b[37m\u001b[0m \u001b[1m1s\u001b[0m 2ms/step - accuracy: 0.9751 - loss: 0.0729\n",
            "Epoch 20/20\n",
            "\u001b[1m552/552\u001b[0m \u001b[32m━━━━━━━━━━━━━━━━━━━━\u001b[0m\u001b[37m\u001b[0m \u001b[1m1s\u001b[0m 2ms/step - accuracy: 0.9731 - loss: 0.0776\n",
            "\u001b[1m237/237\u001b[0m \u001b[32m━━━━━━━━━━━━━━━━━━━━\u001b[0m\u001b[37m\u001b[0m \u001b[1m0s\u001b[0m 1ms/step\n",
            "Resultados de Redes Neuronales:\n",
            "Accuracy: 0.9767134162476846\n",
            "\n",
            "Matriz de Confusión:\n",
            "[[3382  134]\n",
            " [  42 4000]]\n",
            "\n",
            "Reporte de Clasificación:\n",
            "              precision    recall  f1-score   support\n",
            "\n",
            "           0       0.99      0.96      0.97      3516\n",
            "           1       0.97      0.99      0.98      4042\n",
            "\n",
            "    accuracy                           0.98      7558\n",
            "   macro avg       0.98      0.98      0.98      7558\n",
            "weighted avg       0.98      0.98      0.98      7558\n",
            "\n"
          ]
        }
      ]
    },
    {
      "cell_type": "markdown",
      "source": [
        "# 5. Evaluación"
      ],
      "metadata": {
        "id": "EHRGMvQrVqo5"
      }
    },
    {
      "cell_type": "markdown",
      "source": [
        "### **Resultados Comparativos**\n",
        "\n",
        "| Modelo              | Accuracy | Precision (Clase 1) | Recall (Clase 1) | F1-Score (Clase 1) |\n",
        "|---------------------|----------|----------------------|------------------|--------------------|\n",
        "| **Random Forest**   | 99.21%   | 99.2%               | 99.4%           | 99.3%             |\n",
        "| **SVM**             | 96.68%   | 96.5%               | 97.3%           | 96.9%             |\n",
        "| **Redes Neuronales**| 97.67%   | 97.6%               | 98.9%           | 98.2%             |\n",
        "\n",
        "---\n",
        "\n",
        "### **Análisis**\n",
        "\n",
        "1. **Random Forest**:\n",
        "   - Este modelo es el más preciso con una **accuracy de 99.21%** y un excelente balance entre precisión, recall y F1-score.\n",
        "   - Es capaz de capturar patrones complejos y manejar datos con alta dimensionalidad muy bien.\n",
        "   - Si no necesitas tiempo real y la velocidad de predicción es suficiente, este modelo es el más robusto.\n",
        "\n",
        "2. **SVM**:\n",
        "   - Aunque tiene una **accuracy de 96.68%**, que es menor que Random Forest, sigue siendo un modelo sólido.\n",
        "   - Puede ser una buena opción si quieres simplicidad y no necesitas el mejor rendimiento posible.\n",
        "\n",
        "3. **Redes Neuronales**:\n",
        "   - Con **accuracy de 97.67%**, ofrece un desempeño competitivo y captura relaciones complejas en los datos.\n",
        "   - Sin embargo, este modelo puede ser más costoso computacionalmente y podría requerir ajustes adicionales de hiperparámetros para superar Random Forest."
      ],
      "metadata": {
        "id": "m7nmFkK8g48t"
      }
    },
    {
      "cell_type": "markdown",
      "source": [
        "# 6. Despliegue"
      ],
      "metadata": {
        "id": "sYHJOpvUVtgX"
      }
    },
    {
      "cell_type": "code",
      "source": [
        "import joblib\n",
        "import pandas as pd\n",
        "import joblib\n",
        "import numpy as np"
      ],
      "metadata": {
        "id": "hp45xQ0fiXs2"
      },
      "execution_count": null,
      "outputs": []
    },
    {
      "cell_type": "code",
      "source": [
        "# Guardar el modelo Random Forest\n",
        "joblib.dump(rf_model, 'random_forest_model.pkl')\n",
        "\n",
        "print(\"Modelo Random Forest guardado como 'random_forest_model.pkl'\")\n"
      ],
      "metadata": {
        "colab": {
          "base_uri": "https://localhost:8080/"
        },
        "id": "UC1i4uYQfl7y",
        "outputId": "6e5a481a-8aaa-432d-fc02-bf9bc210b9a4"
      },
      "execution_count": 13,
      "outputs": [
        {
          "output_type": "stream",
          "name": "stdout",
          "text": [
            "Modelo Random Forest guardado como 'random_forest_model.pkl'\n"
          ]
        }
      ]
    },
    {
      "cell_type": "code",
      "source": [
        "# Cargar el modelo Random Forest desde el archivo .pkl\n",
        "rf_model_loaded = joblib.load('random_forest_model.pkl')\n",
        "print(\"Modelo cargado exitosamente.\")\n",
        "\n",
        "# Crear un nuevo dato para probar\n",
        "# El orden de las características debe coincidir con el orden del conjunto de entrenamiento.\n",
        "# EJEMPLO\n",
        "nuevo_dato = np.array([[0.1, 0.5, 0.2, 0.7, 1, 0, 0.03, 0, 0, 0.2, 0.1, 0, 1, 0, 0.5, 0.6, 0.3, 0.2, 0.1, 0.4, 0.5, 0.8, 0.6, 0.2, 0.7, 0.3, 0.1, 0]])\n",
        "\n",
        "# Forma de la nueva data\n",
        "print(\"Forma del nuevo dato:\", nuevo_dato.shape)\n",
        "\n",
        "# Realizar la predicción\n",
        "prediccion = rf_model_loaded.predict(nuevo_dato)\n",
        "\n",
        "# Mostrar el resultado\n",
        "resultado = \"anomaly\" if prediccion[0] == 1 else \"normal\"\n",
        "print(f\"El modelo predice que el nuevo dato es: {resultado}\")\n"
      ],
      "metadata": {
        "colab": {
          "base_uri": "https://localhost:8080/"
        },
        "id": "tHZHvxHpVw3Z",
        "outputId": "565d7d15-1492-49af-90a4-c5873336988f"
      },
      "execution_count": 14,
      "outputs": [
        {
          "output_type": "stream",
          "name": "stdout",
          "text": [
            "Modelo cargado exitosamente.\n",
            "Forma del nuevo dato: (1, 28)\n",
            "El modelo predice que el nuevo dato es: anomaly\n"
          ]
        },
        {
          "output_type": "stream",
          "name": "stderr",
          "text": [
            "/usr/local/lib/python3.10/dist-packages/sklearn/base.py:493: UserWarning: X does not have valid feature names, but RandomForestClassifier was fitted with feature names\n",
            "  warnings.warn(\n"
          ]
        }
      ]
    },
    {
      "cell_type": "code",
      "source": [
        "# Crear un nuevo dato como un DataFrame con los nombres de las columnas originales\n",
        "# Asegúrate de incluir los nombres de las características seleccionadas en el entrenamiento\n",
        "columnas_features = [\n",
        "    'flag_SF', 'same_srv_rate', 'dst_host_srv_count', 'dst_host_same_srv_rate',\n",
        "    'logged_in', 'service_http', 'service_domain_u', 'protocol_type_udp',\n",
        "    'service_smtp', 'srv_diff_host_rate', 'flag_RSTR', 'service_ecr_i',\n",
        "    'service_eco_i', 'flag_REJ', 'diff_srv_rate', 'dst_host_diff_srv_rate',\n",
        "    'srv_rerror_rate', 'dst_host_rerror_rate', 'rerror_rate',\n",
        "    'dst_host_srv_rerror_rate', 'dst_host_count', 'service_private',\n",
        "    'count', 'srv_serror_rate', 'serror_rate', 'flag_S0',\n",
        "    'dst_host_serror_rate', 'dst_host_srv_serror_rate'\n",
        "]\n",
        "\n",
        "# Aquí reemplaza los valores con los datos reales que deseas probar\n",
        "nuevo_dato = pd.DataFrame(\n",
        "    [[0.1, 0.5, 0.2, 0.7, 1, 0, 0.03, 0, 0, 0.2, 0.1, 0, 1, 0, 0.5, 0.6, 0.3, 0.2, 0.1, 0.4, 0.5, 0.8, 0.6, 0.2, 0.7, 0.3, 0.1, 0]],\n",
        "    columns=columnas_features\n",
        ")\n",
        "\n",
        "# Realizar la predicción\n",
        "prediccion = rf_model_loaded.predict(nuevo_dato)\n",
        "\n",
        "# Mostrar el resultado\n",
        "resultado = \"anomaly\" if prediccion[0] == 1 else \"normal\"\n",
        "print(f\"El modelo predice que el nuevo dato es: {resultado}\")\n"
      ],
      "metadata": {
        "colab": {
          "base_uri": "https://localhost:8080/"
        },
        "id": "Kwy7sjdrgSGM",
        "outputId": "eebae70a-32c0-4f61-90ca-48a25c3534d0"
      },
      "execution_count": 15,
      "outputs": [
        {
          "output_type": "stream",
          "name": "stdout",
          "text": [
            "El modelo predice que el nuevo dato es: anomaly\n"
          ]
        }
      ]
    },
    {
      "cell_type": "markdown",
      "source": [
        "**INPUT**"
      ],
      "metadata": {
        "id": "8kxhRaLThrOE"
      }
    },
    {
      "cell_type": "code",
      "source": [
        "nuevo_dato = pd.DataFrame(\n",
        "    [[0.1, 0.5, 0.2, 0.7, 1, 0, 0.03, 0, 0, 0.2, 0.1, 0, 1, 0, 0.5, 0.6, 0.3, 0.2, 0.1, 0.4, 0.5, 0.8, 0.6, 0.2, 0.7, 0.3, 0.1, 0]],\n",
        "    columns=[\n",
        "        'flag_SF', 'same_srv_rate', 'dst_host_srv_count', 'dst_host_same_srv_rate',\n",
        "        'logged_in', 'service_http', 'service_domain_u', 'protocol_type_udp',\n",
        "        'service_smtp', 'srv_diff_host_rate', 'flag_RSTR', 'service_ecr_i',\n",
        "        'service_eco_i', 'flag_REJ', 'diff_srv_rate', 'dst_host_diff_srv_rate',\n",
        "        'srv_rerror_rate', 'dst_host_rerror_rate', 'rerror_rate',\n",
        "        'dst_host_srv_rerror_rate', 'dst_host_count', 'service_private',\n",
        "        'count', 'srv_serror_rate', 'serror_rate', 'flag_S0',\n",
        "        'dst_host_serror_rate', 'dst_host_srv_serror_rate'\n",
        "    ]\n",
        ")"
      ],
      "metadata": {
        "id": "68eithBuhpgV"
      },
      "execution_count": null,
      "outputs": []
    }
  ]
}